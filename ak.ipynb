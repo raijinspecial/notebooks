{
  "nbformat": 4,
  "nbformat_minor": 0,
  "metadata": {
    "colab": {
      "name": "ak.ipynb",
      "version": "0.3.2",
      "provenance": [],
      "collapsed_sections": [],
      "include_colab_link": true
    },
    "kernelspec": {
      "name": "python3",
      "display_name": "Python 3"
    },
    "accelerator": "TPU"
  },
  "cells": [
    {
      "cell_type": "markdown",
      "metadata": {
        "id": "view-in-github",
        "colab_type": "text"
      },
      "source": [
        "[View in Colaboratory](https://colab.research.google.com/github/raijinspecial/notebooks/blob/master/ak.ipynb)"
      ]
    },
    {
      "metadata": {
        "id": "0vYSuB2BI93J",
        "colab_type": "code",
        "colab": {}
      },
      "cell_type": "code",
      "source": [
        "import json\n",
        "from pprint import pprint\n",
        "from google.colab import auth\n",
        "from googleapiclient.discovery import build\n",
        "import io\n",
        "from googleapiclient.http import MediaIoBaseDownload\n",
        "import pickle"
      ],
      "execution_count": 0,
      "outputs": []
    },
    {
      "metadata": {
        "id": "3LMf_inMKwDE",
        "colab_type": "code",
        "colab": {}
      },
      "cell_type": "code",
      "source": [
        "auth.authenticate_user()\n",
        "drive_service = build('drive', 'v3')"
      ],
      "execution_count": 0,
      "outputs": []
    },
    {
      "metadata": {
        "id": "yILqHLS8I95n",
        "colab_type": "code",
        "colab": {}
      },
      "cell_type": "code",
      "source": [
        "\n",
        "def _create_file_request(file_id):\n",
        "    return drive_service.files().get_media(fileId=file_id)\n",
        "\n",
        "\n",
        "def _download_response_bytes(request, print_progress=False):\n",
        "    downloaded = io.BytesIO()\n",
        "    downloader = MediaIoBaseDownload(downloaded, request)\n",
        "    \n",
        "    for status in _progbar(downloader):\n",
        "        if print_progress:\n",
        "            print(\"Downloaded {}/{} bytes\".format(status.resumable_progress, status.total_size))\n",
        "  \n",
        "    downloaded.seek(0)\n",
        "    return downloaded.read()\n",
        "\n",
        "  \n",
        "def _progbar(downloader):\n",
        "    done = False\n",
        "    while done is False:\n",
        "        status, done = downloader.next_chunk()\n",
        "        yield status\n",
        "\n",
        "\n",
        "def get_file_id(name):\n",
        "    return get_matching_files(name)[0]['id']\n",
        "\n",
        "\n",
        "def move_from_drive_to_disk(file_names, file_destinations):\n",
        "    for file_name, dest in zip(file_names, file_destinations):\n",
        "        file_id = get_file_id(file_name)\n",
        "        print('Downloading file: \"{}\"'.format(file_name))\n",
        "        file_bytes = _download_response_bytes(_create_file_request(file_id), print_progress=True)\n",
        "        with open(dest, \"wb\") as f:\n",
        "            f.write(file_bytes)\n",
        "\n",
        "\n",
        "def load_pickled_files(file_names):\n",
        "    for name in file_names:\n",
        "        yield pickle.load(open(name, \"rb\"))\n",
        "        \n",
        "\n",
        "def get_matching_files(name):\n",
        "    drive_files_response = _download_response_bytes(drive_service.files().list())\n",
        "    drive_files_response_dict = json.loads(\n",
        "        drive_files_response.decode('utf-8')\n",
        "    )\n",
        "    drive_files_dict = drive_files_response_dict['files']\n",
        "  \n",
        "    matching_records = [\n",
        "        record\n",
        "        for record in drive_files_dict\n",
        "        if record['name'] == name\n",
        "    ]\n",
        "\n",
        "    no_records = len(matching_records)\n",
        "    if no_records == 0:\n",
        "        raise ValueError('no such file: \"{}\" on your Google Drive'.format(name))\n",
        "    elif no_records > 1:\n",
        "        print('warning: multiple matches for file \"{}\"'.format(name))\n",
        "    return matching_records"
      ],
      "execution_count": 0,
      "outputs": []
    },
    {
      "metadata": {
        "id": "yXx7ITj39Tkd",
        "colab_type": "code",
        "colab": {}
      },
      "cell_type": "code",
      "source": [
        "!pip install tensorflow==1.10.0"
      ],
      "execution_count": 0,
      "outputs": []
    },
    {
      "metadata": {
        "id": "tciFJ0hZ9aRj",
        "colab_type": "code",
        "colab": {}
      },
      "cell_type": "code",
      "source": [
        "!pip install keras==2.2.2"
      ],
      "execution_count": 0,
      "outputs": []
    },
    {
      "metadata": {
        "id": "k8UZa9Mf-FDh",
        "colab_type": "code",
        "colab": {}
      },
      "cell_type": "code",
      "source": [
        "!pip install torch==0.4.1"
      ],
      "execution_count": 0,
      "outputs": []
    },
    {
      "metadata": {
        "id": "qqxUmAdEQrjL",
        "colab_type": "code",
        "colab": {}
      },
      "cell_type": "code",
      "source": [
        "rq = 'requirements.txt'\n",
        "rid = get_file_id(rq)\n",
        "move_from_drive_to_disk([rq], ['requirements.txt'])\n"
      ],
      "execution_count": 0,
      "outputs": []
    },
    {
      "metadata": {
        "id": "pI0ng46K_m55",
        "colab_type": "code",
        "colab": {}
      },
      "cell_type": "code",
      "source": [
        "!ls"
      ],
      "execution_count": 0,
      "outputs": []
    },
    {
      "metadata": {
        "id": "P9W_DqTK_nBB",
        "colab_type": "code",
        "colab": {}
      },
      "cell_type": "code",
      "source": [
        "!pip install -r requirements.txt"
      ],
      "execution_count": 0,
      "outputs": []
    },
    {
      "metadata": {
        "id": "JIJOAGUY_nI7",
        "colab_type": "code",
        "colab": {}
      },
      "cell_type": "code",
      "source": [
        "!pip install autokeras"
      ],
      "execution_count": 0,
      "outputs": []
    },
    {
      "metadata": {
        "id": "IQ7hp_1Z_nL3",
        "colab_type": "code",
        "colab": {}
      },
      "cell_type": "code",
      "source": [
        "import tensorflow as tf"
      ],
      "execution_count": 0,
      "outputs": []
    },
    {
      "metadata": {
        "id": "fHzI7fUx_nOl",
        "colab_type": "code",
        "colab": {
          "base_uri": "https://localhost:8080/",
          "height": 89
        },
        "outputId": "a20689ca-22db-4956-fbc8-b42e569727dc"
      },
      "cell_type": "code",
      "source": [
        "import autokeras as ak"
      ],
      "execution_count": 25,
      "outputs": [
        {
          "output_type": "stream",
          "text": [
            "Using TensorFlow backend.\n",
            "/usr/local/lib/python3.6/dist-packages/tqdm/autonotebook/__init__.py:14: TqdmExperimentalWarning: Using `tqdm.autonotebook.tqdm` in notebook mode. Use `tqdm.tqdm` instead to force console mode (e.g. in jupyter console)\n",
            "  \" (e.g. in jupyter console)\", TqdmExperimentalWarning)\n"
          ],
          "name": "stderr"
        }
      ]
    },
    {
      "metadata": {
        "id": "kuWHs93g_-EJ",
        "colab_type": "code",
        "colab": {
          "base_uri": "https://localhost:8080/",
          "height": 52
        },
        "outputId": "45f16daf-a44e-4703-b537-983e6b9ee819"
      },
      "cell_type": "code",
      "source": [
        "!ls"
      ],
      "execution_count": 26,
      "outputs": [
        {
          "output_type": "stream",
          "text": [
            "adc.json\tdrone_train.zip   sample_data\t   train_label2.csv\n",
            "drone_test.zip\trequirements.txt  test_label2.csv\n"
          ],
          "name": "stdout"
        }
      ]
    },
    {
      "metadata": {
        "id": "zfMt8mlNIerg",
        "colab_type": "code",
        "colab": {}
      },
      "cell_type": "code",
      "source": [
        "!pip install PyDrive"
      ],
      "execution_count": 0,
      "outputs": []
    },
    {
      "metadata": {
        "id": "BvkNk8JII9vB",
        "colab_type": "code",
        "colab": {}
      },
      "cell_type": "code",
      "source": [
        "from pydrive.auth import GoogleAuth\n",
        "from pydrive.drive import GoogleDrive\n",
        "from google.colab import auth\n",
        "from oauth2client.client import GoogleCredentials\n",
        "\n",
        "# Authenticate and create the PyDrive client.\n",
        "# This only needs to be done once in a notebook.\n",
        "auth.authenticate_user()\n",
        "gauth = GoogleAuth()\n",
        "gauth.credentials = GoogleCredentials.get_application_default()\n",
        "drive = GoogleDrive(gauth)"
      ],
      "execution_count": 0,
      "outputs": []
    },
    {
      "metadata": {
        "id": "gVNgMa-UKPKD",
        "colab_type": "code",
        "colab": {}
      },
      "cell_type": "code",
      "source": [
        "example_file_name = 'drone_train.zip'\n",
        "example_file_id = get_file_id(example_file_name)"
      ],
      "execution_count": 0,
      "outputs": []
    },
    {
      "metadata": {
        "id": "31I55ax0KPNx",
        "colab_type": "code",
        "colab": {
          "base_uri": "https://localhost:8080/",
          "height": 52
        },
        "outputId": "d3b43e84-4482-4d60-87f4-7fd1ade0a25d"
      },
      "cell_type": "code",
      "source": [
        "move_from_drive_to_disk([example_file_name], ['drone_train.zip'])"
      ],
      "execution_count": 16,
      "outputs": [
        {
          "output_type": "stream",
          "text": [
            "Downloading file: \"drone_train.zip\"\n",
            "Downloaded 86245120/86245120 bytes\n"
          ],
          "name": "stdout"
        }
      ]
    },
    {
      "metadata": {
        "id": "ueecJB0aKPQl",
        "colab_type": "code",
        "colab": {}
      },
      "cell_type": "code",
      "source": [
        "example_file_name2 = 'drone_test.zip'\n",
        "example_file_id2 = get_file_id(example_file_name2)"
      ],
      "execution_count": 0,
      "outputs": []
    },
    {
      "metadata": {
        "id": "GeM94_M5KPWg",
        "colab_type": "code",
        "colab": {
          "base_uri": "https://localhost:8080/",
          "height": 52
        },
        "outputId": "27610135-e4d8-4a33-9b48-bb66ec0b27c8"
      },
      "cell_type": "code",
      "source": [
        "move_from_drive_to_disk([example_file_name2], ['drone_test.zip'])"
      ],
      "execution_count": 18,
      "outputs": [
        {
          "output_type": "stream",
          "text": [
            "Downloading file: \"drone_test.zip\"\n",
            "Downloaded 33941727/33941727 bytes\n"
          ],
          "name": "stdout"
        }
      ]
    },
    {
      "metadata": {
        "id": "XnEdhmrbLZHi",
        "colab_type": "code",
        "colab": {}
      },
      "cell_type": "code",
      "source": [
        "tstlab = 'test_label2.csv'\n",
        "trnlab = 'train_label2.csv'\n",
        "tstid = get_file_id(tstlab)\n",
        "trnid = get_file_id(trnlab)"
      ],
      "execution_count": 0,
      "outputs": []
    },
    {
      "metadata": {
        "id": "qSbQAZ0jLZNF",
        "colab_type": "code",
        "colab": {}
      },
      "cell_type": "code",
      "source": [
        "move_from_drive_to_disk([tstlab], ['test_label2.csv'])\n",
        "move_from_drive_to_disk([trnlab], ['train_label2.csv'])"
      ],
      "execution_count": 0,
      "outputs": []
    },
    {
      "metadata": {
        "id": "caYbig9zLZR7",
        "colab_type": "code",
        "colab": {
          "base_uri": "https://localhost:8080/",
          "height": 52
        },
        "outputId": "8c43466d-1bf6-4eb1-8563-0ba30a2a2a02"
      },
      "cell_type": "code",
      "source": [
        "!ls"
      ],
      "execution_count": 21,
      "outputs": [
        {
          "output_type": "stream",
          "text": [
            "adc.json\tdrone_train.zip  test_label2.csv\n",
            "drone_test.zip\tsample_data\t train_label2.csv\n"
          ],
          "name": "stdout"
        }
      ]
    },
    {
      "metadata": {
        "id": "e0jJdKDgLZjC",
        "colab_type": "code",
        "colab": {}
      },
      "cell_type": "code",
      "source": [
        "!mkdir train"
      ],
      "execution_count": 0,
      "outputs": []
    },
    {
      "metadata": {
        "id": "1f5BnZ7aWe9G",
        "colab_type": "code",
        "colab": {}
      },
      "cell_type": "code",
      "source": [
        "!mkdir test"
      ],
      "execution_count": 0,
      "outputs": []
    },
    {
      "metadata": {
        "id": "aV28crmXLZUq",
        "colab_type": "code",
        "colab": {}
      },
      "cell_type": "code",
      "source": [
        "!unzip drone_train.zip -d ./train"
      ],
      "execution_count": 0,
      "outputs": []
    },
    {
      "metadata": {
        "id": "J2xqpC6SLZXh",
        "colab_type": "code",
        "colab": {}
      },
      "cell_type": "code",
      "source": [
        "!unzip drone_test.zip -d ./test"
      ],
      "execution_count": 0,
      "outputs": []
    },
    {
      "metadata": {
        "id": "T_pf0INOR1c3",
        "colab_type": "code",
        "colab": {}
      },
      "cell_type": "code",
      "source": [
        "import os"
      ],
      "execution_count": 0,
      "outputs": []
    },
    {
      "metadata": {
        "id": "hQWF1SG4XQpX",
        "colab_type": "code",
        "colab": {}
      },
      "cell_type": "code",
      "source": [
        "!pip install Pillow==5.0.0\n",
        "!pip install PIL\n",
        "!pip install image\n",
        "#from PIL import Im"
      ],
      "execution_count": 0,
      "outputs": []
    },
    {
      "metadata": {
        "id": "cxkuahB1KPaV",
        "colab_type": "code",
        "colab": {
          "base_uri": "https://localhost:8080/",
          "height": 211
        },
        "outputId": "a03f86f1-b3b3-4d68-c94c-5a4ed2b532d5"
      },
      "cell_type": "code",
      "source": [
        "!pip show numpy"
      ],
      "execution_count": 78,
      "outputs": [
        {
          "output_type": "stream",
          "text": [
            "Name: numpy\n",
            "Version: 1.14.5\n",
            "Summary: NumPy: array processing for numbers, strings, records, and objects.\n",
            "Home-page: http://www.numpy.org\n",
            "Author: Travis E. Oliphant et al.\n",
            "Author-email: None\n",
            "License: BSD\n",
            "Location: /usr/local/lib/python3.6/dist-packages\n",
            "Requires: \n",
            "Required-by: xgboost, torchvision, thinc, Theano, tensorflow, tensorflow-hub, tensorboard, spacy, scipy, PyWavelets, pymc3, patsy, pandas, opencv-python, msgpack-numpy, matplotlib, Keras, Keras-Preprocessing, Keras-Applications, h5py, autokeras, altair\n"
          ],
          "name": "stdout"
        }
      ]
    },
    {
      "metadata": {
        "id": "z8AmsSlaWle2",
        "colab_type": "code",
        "colab": {
          "base_uri": "https://localhost:8080/",
          "height": 124
        },
        "outputId": "997b6f77-101d-4cef-8b32-bf605b954275"
      },
      "cell_type": "code",
      "source": [
        "!pip install --no-cache-dir -I pillow"
      ],
      "execution_count": 36,
      "outputs": [
        {
          "output_type": "stream",
          "text": [
            "Collecting pillow\n",
            "\u001b[?25l  Downloading https://files.pythonhosted.org/packages/d1/24/f53ff6b61b3d728b90934bddb4f03f8ab584a7f49299bf3bde56e2952612/Pillow-5.2.0-cp36-cp36m-manylinux1_x86_64.whl (2.0MB)\n",
            "\u001b[K    100% |████████████████████████████████| 2.0MB 12.9MB/s \n",
            "\u001b[?25hInstalling collected packages: pillow\n",
            "Successfully installed pillow-5.2.0\n"
          ],
          "name": "stdout"
        }
      ]
    },
    {
      "metadata": {
        "id": "a02SBdloLZeI",
        "colab_type": "code",
        "colab": {
          "base_uri": "https://localhost:8080/",
          "height": 52
        },
        "outputId": "986c462e-af32-4a2b-e85e-4b2175731f60"
      },
      "cell_type": "code",
      "source": [
        "from autokeras.image_supervised import load_image_dataset\n",
        "\n",
        "x_train, y_train = load_image_dataset(csv_file_path='train_label2.csv',\n",
        "                                      images_path='/content/train')\n",
        "print(x_train.shape)\n",
        "print(y_train.shape)"
      ],
      "execution_count": 70,
      "outputs": [
        {
          "output_type": "stream",
          "text": [
            "(350,)\n",
            "(350,)\n"
          ],
          "name": "stdout"
        }
      ]
    },
    {
      "metadata": {
        "id": "KXjtXN8dWlkZ",
        "colab_type": "code",
        "colab": {
          "base_uri": "https://localhost:8080/",
          "height": 52
        },
        "outputId": "12491ef7-101f-415c-e935-44403d3fdb6a"
      },
      "cell_type": "code",
      "source": [
        "x_test, y_test = load_image_dataset(csv_file_path='test_label2.csv',\n",
        "                                    images_path='/content/test')\n",
        "print(x_test.shape)\n",
        "print(y_test.shape)"
      ],
      "execution_count": 71,
      "outputs": [
        {
          "output_type": "stream",
          "text": [
            "(148,)\n",
            "(148,)\n"
          ],
          "name": "stdout"
        }
      ]
    },
    {
      "metadata": {
        "id": "aInOlrzoWlpJ",
        "colab_type": "code",
        "colab": {}
      },
      "cell_type": "code",
      "source": [
        "from autokeras.image_supervised import ImageClassifier"
      ],
      "execution_count": 0,
      "outputs": []
    },
    {
      "metadata": {
        "id": "mXqC8YXvWlr_",
        "colab_type": "code",
        "colab": {}
      },
      "cell_type": "code",
      "source": [
        "clf = ImageClassifier(verbose=True)\n",
        "clf.fit(x_train, y_train, time_limit=12 * 60 * 60)\n",
        "clf.final_fit(x_train, y_train, x_test, y_test, retrain=True)\n",
        "y = clf.evaluate(x_test, y_test)\n",
        "print(y)"
      ],
      "execution_count": 0,
      "outputs": []
    },
    {
      "metadata": {
        "id": "4K5K4rbBWlvF",
        "colab_type": "code",
        "colab": {
          "base_uri": "https://localhost:8080/",
          "height": 35
        },
        "outputId": "770a475e-00b4-4649-cc10-23a2f26a76f4"
      },
      "cell_type": "code",
      "source": [
        "x_train.dtype"
      ],
      "execution_count": 72,
      "outputs": [
        {
          "output_type": "execute_result",
          "data": {
            "text/plain": [
              "dtype('O')"
            ]
          },
          "metadata": {
            "tags": []
          },
          "execution_count": 72
        }
      ]
    },
    {
      "metadata": {
        "id": "W9i3rBwkWlxY",
        "colab_type": "code",
        "colab": {}
      },
      "cell_type": "code",
      "source": [
        "x_trains = x_train.reshape(x_train.shape + (-1,1))"
      ],
      "execution_count": 0,
      "outputs": []
    },
    {
      "metadata": {
        "id": "aFZy8kc8I98D",
        "colab_type": "code",
        "colab": {}
      },
      "cell_type": "code",
      "source": [
        "x_trains = x_train.reshape(-1,1)"
      ],
      "execution_count": 0,
      "outputs": []
    },
    {
      "metadata": {
        "id": "Yvg386I6oUqL",
        "colab_type": "code",
        "colab": {}
      },
      "cell_type": "code",
      "source": [
        "x_train.ravel().ravel()"
      ],
      "execution_count": 0,
      "outputs": []
    },
    {
      "metadata": {
        "id": "sW0E1ijFkbAL",
        "colab_type": "code",
        "colab": {}
      },
      "cell_type": "code",
      "source": [
        "rr=pd.Series(x_train)"
      ],
      "execution_count": 0,
      "outputs": []
    },
    {
      "metadata": {
        "id": "IYDKWlj6nFLg",
        "colab_type": "code",
        "colab": {}
      },
      "cell_type": "code",
      "source": [
        "import pandas as pd"
      ],
      "execution_count": 0,
      "outputs": []
    },
    {
      "metadata": {
        "id": "bfHAMutxnFPy",
        "colab_type": "code",
        "colab": {}
      },
      "cell_type": "code",
      "source": [
        "ww=list()\n",
        "for x in x_train:\n",
        "  ww.append(x)"
      ],
      "execution_count": 0,
      "outputs": []
    },
    {
      "metadata": {
        "id": "hfMb6kX3nFUg",
        "colab_type": "code",
        "colab": {
          "base_uri": "https://localhost:8080/",
          "height": 35
        },
        "outputId": "fb69b4d8-8d3c-48ce-a7a3-eaa821210dce"
      },
      "cell_type": "code",
      "source": [
        "len(ww)"
      ],
      "execution_count": 88,
      "outputs": [
        {
          "output_type": "execute_result",
          "data": {
            "text/plain": [
              "350"
            ]
          },
          "metadata": {
            "tags": []
          },
          "execution_count": 88
        }
      ]
    },
    {
      "metadata": {
        "id": "zyJM45bcnFZ-",
        "colab_type": "code",
        "colab": {}
      },
      "cell_type": "code",
      "source": [
        "ww"
      ],
      "execution_count": 0,
      "outputs": []
    },
    {
      "metadata": {
        "id": "C9bLiNqvnFeU",
        "colab_type": "code",
        "colab": {}
      },
      "cell_type": "code",
      "source": [
        "rr"
      ],
      "execution_count": 0,
      "outputs": []
    },
    {
      "metadata": {
        "id": "rV8Y8gqQtYjJ",
        "colab_type": "code",
        "colab": {}
      },
      "cell_type": "code",
      "source": [
        "ari=list()\n",
        "ri=list()\n",
        "eli=list()\n",
        "for arr_i, arr in enumerate(rr):\n",
        "    ari.append(arr_i)\n",
        "\n",
        "    #for row_i, row in enumerate(arr):\n",
        "        #ri.append(row_i)\n",
        "\n",
        "        #for el in row:\n",
        "            #eli.append(el)"
      ],
      "execution_count": 0,
      "outputs": []
    },
    {
      "metadata": {
        "id": "DaPBE7tTtYl-",
        "colab_type": "code",
        "colab": {}
      },
      "cell_type": "code",
      "source": [
        ""
      ],
      "execution_count": 0,
      "outputs": []
    },
    {
      "metadata": {
        "id": "Co4cweqUtYpZ",
        "colab_type": "code",
        "colab": {}
      },
      "cell_type": "code",
      "source": [
        ""
      ],
      "execution_count": 0,
      "outputs": []
    },
    {
      "metadata": {
        "id": "0aOKAPm0tYrU",
        "colab_type": "code",
        "colab": {}
      },
      "cell_type": "code",
      "source": [
        ""
      ],
      "execution_count": 0,
      "outputs": []
    },
    {
      "metadata": {
        "id": "SFTxdtlXtYts",
        "colab_type": "code",
        "colab": {}
      },
      "cell_type": "code",
      "source": [
        ""
      ],
      "execution_count": 0,
      "outputs": []
    },
    {
      "metadata": {
        "id": "3x_QywOntYyG",
        "colab_type": "code",
        "colab": {}
      },
      "cell_type": "code",
      "source": [
        ""
      ],
      "execution_count": 0,
      "outputs": []
    },
    {
      "metadata": {
        "id": "1ZvrdfbPnFhf",
        "colab_type": "code",
        "colab": {}
      },
      "cell_type": "code",
      "source": [
        ""
      ],
      "execution_count": 0,
      "outputs": []
    },
    {
      "metadata": {
        "id": "vSPg0djSnFk3",
        "colab_type": "code",
        "colab": {}
      },
      "cell_type": "code",
      "source": [
        ""
      ],
      "execution_count": 0,
      "outputs": []
    },
    {
      "metadata": {
        "id": "_bNE7e2jnFoR",
        "colab_type": "code",
        "colab": {}
      },
      "cell_type": "code",
      "source": [
        ""
      ],
      "execution_count": 0,
      "outputs": []
    },
    {
      "metadata": {
        "id": "py8wcXGDnFq5",
        "colab_type": "code",
        "colab": {}
      },
      "cell_type": "code",
      "source": [
        ""
      ],
      "execution_count": 0,
      "outputs": []
    },
    {
      "metadata": {
        "id": "TOHk6SyznFt3",
        "colab_type": "code",
        "colab": {}
      },
      "cell_type": "code",
      "source": [
        ""
      ],
      "execution_count": 0,
      "outputs": []
    },
    {
      "metadata": {
        "id": "nHjw_brUnFw4",
        "colab_type": "code",
        "colab": {}
      },
      "cell_type": "code",
      "source": [
        ""
      ],
      "execution_count": 0,
      "outputs": []
    },
    {
      "metadata": {
        "id": "F-0b6rvIkbDz",
        "colab_type": "code",
        "colab": {
          "base_uri": "https://localhost:8080/",
          "height": 52
        },
        "outputId": "2b87d37c-de56-4dc2-b9f5-e6f919cbf537"
      },
      "cell_type": "code",
      "source": [
        "from keras.datasets import mnist\n",
        "from autokeras.image_supervised import ImageClassifier\n",
        "\n",
        "if __name__ == '__main__':\n",
        "    (x_train, y_train), (x_test, y_test) = mnist.load_data()\n",
        "    x_train = x_train.reshape(x_train.shape + (1,))\n",
        "    x_test = x_test.reshape(x_test.shape + (1,))"
      ],
      "execution_count": 68,
      "outputs": [
        {
          "output_type": "stream",
          "text": [
            "Downloading data from https://s3.amazonaws.com/img-datasets/mnist.npz\n",
            "11493376/11490434 [==============================] - 1s 0us/step\n"
          ],
          "name": "stdout"
        }
      ]
    },
    {
      "metadata": {
        "id": "I8Cw9p21kbHT",
        "colab_type": "code",
        "colab": {
          "base_uri": "https://localhost:8080/",
          "height": 35
        },
        "outputId": "126e568c-e336-4b47-aa40-5cc612c17ab4"
      },
      "cell_type": "code",
      "source": [
        "x_train.shape"
      ],
      "execution_count": 69,
      "outputs": [
        {
          "output_type": "execute_result",
          "data": {
            "text/plain": [
              "(60000, 28, 28, 1)"
            ]
          },
          "metadata": {
            "tags": []
          },
          "execution_count": 69
        }
      ]
    },
    {
      "metadata": {
        "id": "bFqN22bpkbKL",
        "colab_type": "code",
        "colab": {}
      },
      "cell_type": "code",
      "source": [
        ""
      ],
      "execution_count": 0,
      "outputs": []
    },
    {
      "metadata": {
        "id": "7xtpVE65kbM_",
        "colab_type": "code",
        "colab": {}
      },
      "cell_type": "code",
      "source": [
        ""
      ],
      "execution_count": 0,
      "outputs": []
    },
    {
      "metadata": {
        "id": "EkyoznbDkbP3",
        "colab_type": "code",
        "colab": {}
      },
      "cell_type": "code",
      "source": [
        ""
      ],
      "execution_count": 0,
      "outputs": []
    },
    {
      "metadata": {
        "id": "aYmi2OQLI-AR",
        "colab_type": "code",
        "colab": {}
      },
      "cell_type": "code",
      "source": [
        ""
      ],
      "execution_count": 0,
      "outputs": []
    },
    {
      "metadata": {
        "id": "3U-oIjHVI-D7",
        "colab_type": "code",
        "colab": {}
      },
      "cell_type": "code",
      "source": [
        ""
      ],
      "execution_count": 0,
      "outputs": []
    }
  ]
}